{
 "cells": [
  {
   "attachments": {},
   "cell_type": "markdown",
   "metadata": {},
   "source": [
    "# Часть 1. \n",
    "\n",
    "# Начало работы с данными.\n",
    "\n",
    "## Первый взгляд на рабочие данные "
   ]
  },
  {
   "attachments": {},
   "cell_type": "markdown",
   "metadata": {},
   "source": [
    "Загрузка рабочего датасета:"
   ]
  },
  {
   "cell_type": "code",
   "execution_count": 1,
   "metadata": {},
   "outputs": [
    {
     "data": {
      "text/html": [
       "<div>\n",
       "<style scoped>\n",
       "    .dataframe tbody tr th:only-of-type {\n",
       "        vertical-align: middle;\n",
       "    }\n",
       "\n",
       "    .dataframe tbody tr th {\n",
       "        vertical-align: top;\n",
       "    }\n",
       "\n",
       "    .dataframe thead th {\n",
       "        text-align: right;\n",
       "    }\n",
       "</style>\n",
       "<table border=\"1\" class=\"dataframe\">\n",
       "  <thead>\n",
       "    <tr style=\"text-align: right;\">\n",
       "      <th></th>\n",
       "      <th>hotel_address</th>\n",
       "      <th>additional_number_of_scoring</th>\n",
       "      <th>review_date</th>\n",
       "      <th>average_score</th>\n",
       "      <th>hotel_name</th>\n",
       "      <th>reviewer_nationality</th>\n",
       "      <th>negative_review</th>\n",
       "      <th>review_total_negative_word_counts</th>\n",
       "      <th>total_number_of_reviews</th>\n",
       "      <th>positive_review</th>\n",
       "      <th>review_total_positive_word_counts</th>\n",
       "      <th>total_number_of_reviews_reviewer_has_given</th>\n",
       "      <th>reviewer_score</th>\n",
       "      <th>tags</th>\n",
       "      <th>days_since_review</th>\n",
       "      <th>lat</th>\n",
       "      <th>lng</th>\n",
       "    </tr>\n",
       "  </thead>\n",
       "  <tbody>\n",
       "    <tr>\n",
       "      <th>0</th>\n",
       "      <td>Stratton Street Mayfair Westminster Borough Lo...</td>\n",
       "      <td>581</td>\n",
       "      <td>2/19/2016</td>\n",
       "      <td>8.4</td>\n",
       "      <td>The May Fair Hotel</td>\n",
       "      <td>United Kingdom</td>\n",
       "      <td>Leaving</td>\n",
       "      <td>3</td>\n",
       "      <td>1994</td>\n",
       "      <td>Staff were amazing</td>\n",
       "      <td>4</td>\n",
       "      <td>7</td>\n",
       "      <td>10.0</td>\n",
       "      <td>[' Leisure trip ', ' Couple ', ' Studio Suite ...</td>\n",
       "      <td>531 day</td>\n",
       "      <td>51.507894</td>\n",
       "      <td>-0.143671</td>\n",
       "    </tr>\n",
       "    <tr>\n",
       "      <th>1</th>\n",
       "      <td>130 134 Southampton Row Camden London WC1B 5AF...</td>\n",
       "      <td>299</td>\n",
       "      <td>1/12/2017</td>\n",
       "      <td>8.3</td>\n",
       "      <td>Mercure London Bloomsbury Hotel</td>\n",
       "      <td>United Kingdom</td>\n",
       "      <td>poor breakfast</td>\n",
       "      <td>3</td>\n",
       "      <td>1361</td>\n",
       "      <td>location</td>\n",
       "      <td>2</td>\n",
       "      <td>14</td>\n",
       "      <td>6.3</td>\n",
       "      <td>[' Business trip ', ' Couple ', ' Standard Dou...</td>\n",
       "      <td>203 day</td>\n",
       "      <td>51.521009</td>\n",
       "      <td>-0.123097</td>\n",
       "    </tr>\n",
       "  </tbody>\n",
       "</table>\n",
       "</div>"
      ],
      "text/plain": [
       "                                       hotel_address   \n",
       "0  Stratton Street Mayfair Westminster Borough Lo...  \\\n",
       "1  130 134 Southampton Row Camden London WC1B 5AF...   \n",
       "\n",
       "   additional_number_of_scoring review_date  average_score   \n",
       "0                           581   2/19/2016            8.4  \\\n",
       "1                           299   1/12/2017            8.3   \n",
       "\n",
       "                        hotel_name reviewer_nationality  negative_review   \n",
       "0               The May Fair Hotel      United Kingdom          Leaving   \\\n",
       "1  Mercure London Bloomsbury Hotel      United Kingdom    poor breakfast   \n",
       "\n",
       "   review_total_negative_word_counts  total_number_of_reviews   \n",
       "0                                  3                     1994  \\\n",
       "1                                  3                     1361   \n",
       "\n",
       "       positive_review  review_total_positive_word_counts   \n",
       "0   Staff were amazing                                  4  \\\n",
       "1             location                                  2   \n",
       "\n",
       "   total_number_of_reviews_reviewer_has_given  reviewer_score   \n",
       "0                                           7            10.0  \\\n",
       "1                                          14             6.3   \n",
       "\n",
       "                                                tags days_since_review   \n",
       "0  [' Leisure trip ', ' Couple ', ' Studio Suite ...           531 day  \\\n",
       "1  [' Business trip ', ' Couple ', ' Standard Dou...           203 day   \n",
       "\n",
       "         lat       lng  \n",
       "0  51.507894 -0.143671  \n",
       "1  51.521009 -0.123097  "
      ]
     },
     "execution_count": 1,
     "metadata": {},
     "output_type": "execute_result"
    }
   ],
   "source": [
    "import pandas as pd\n",
    "\n",
    "hotels = pd.read_csv('hotels.csv')\n",
    "hotels.head(2)"
   ]
  },
  {
   "attachments": {},
   "cell_type": "markdown",
   "metadata": {},
   "source": [
    "### Базовые характеристики рабочего датасета:"
   ]
  },
  {
   "cell_type": "code",
   "execution_count": 2,
   "metadata": {},
   "outputs": [
    {
     "name": "stdout",
     "output_type": "stream",
     "text": [
      "<class 'pandas.core.frame.DataFrame'>\n",
      "RangeIndex: 386803 entries, 0 to 386802\n",
      "Data columns (total 17 columns):\n",
      " #   Column                                      Non-Null Count   Dtype  \n",
      "---  ------                                      --------------   -----  \n",
      " 0   hotel_address                               386803 non-null  object \n",
      " 1   additional_number_of_scoring                386803 non-null  int64  \n",
      " 2   review_date                                 386803 non-null  object \n",
      " 3   average_score                               386803 non-null  float64\n",
      " 4   hotel_name                                  386803 non-null  object \n",
      " 5   reviewer_nationality                        386803 non-null  object \n",
      " 6   negative_review                             386803 non-null  object \n",
      " 7   review_total_negative_word_counts           386803 non-null  int64  \n",
      " 8   total_number_of_reviews                     386803 non-null  int64  \n",
      " 9   positive_review                             386803 non-null  object \n",
      " 10  review_total_positive_word_counts           386803 non-null  int64  \n",
      " 11  total_number_of_reviews_reviewer_has_given  386803 non-null  int64  \n",
      " 12  reviewer_score                              386803 non-null  float64\n",
      " 13  tags                                        386803 non-null  object \n",
      " 14  days_since_review                           386803 non-null  object \n",
      " 15  lat                                         384355 non-null  float64\n",
      " 16  lng                                         384355 non-null  float64\n",
      "dtypes: float64(4), int64(5), object(8)\n",
      "memory usage: 50.2+ MB\n"
     ]
    }
   ],
   "source": [
    "hotels.info()"
   ]
  },
  {
   "attachments": {},
   "cell_type": "markdown",
   "metadata": {},
   "source": [
    "### Характеристики рабочего датасета, представляющие интерес:\n",
    "\n",
    "- Датасет содержит 387 тысяч строк (индивидуальных отзывов к отелям)\n",
    "\n",
    "- Каждая строка содержит информацию о 17 признаках, 10 из которых (включая целевой признак reviewer_score) \n",
    "  являются количественными, 6 - качественными, а один признак представляет собой дату в строковом виде (object)\n",
    "\n",
    "- Из 10 количественных признаков 5 представлены в виде целых чисел (int64), 4 - в виде\n",
    " чисел с плав. запятой (float64), а один признак (days_since_review) - в строковом виде (object) \n",
    "\n",
    "- Пропуски в данных имеются только в двух признаках - географических координат отеля lat и lng.\n",
    " Оба этих признака содержат абсолютно одинаковое количество пропусков (скорее всего, находящихся в одних \n",
    " и тех же строках для каждого признака)\n",
    "\n",
    "- Признаки negative_review и positive_review содержат в себе собственно текст отзывов и требуют проведения\n",
    " хотя бы простейшего парсинга текста для получения из них полезной информации\n",
    " \n",
    "- Признак tags должен представлять из себя список тегов; для получения из него полезной информации\n",
    " требутся провести специализированный парсинг"
   ]
  },
  {
   "attachments": {},
   "cell_type": "markdown",
   "metadata": {},
   "source": [
    "## Разбиение и базовая предобработка исходного датасета.\n",
    "\n",
    "Разбиваем датасет на X и y. Все дальнейшие преобразования будут осуществляться с датасетом X, а не с исходным датасетом."
   ]
  },
  {
   "cell_type": "code",
   "execution_count": 26,
   "metadata": {},
   "outputs": [],
   "source": [
    "X = hotels.drop(['reviewer_score'], axis = 1)  \n",
    "y = hotels['reviewer_score'] "
   ]
  },
  {
   "attachments": {},
   "cell_type": "markdown",
   "metadata": {},
   "source": [
    "Для удобства обработки признак days_since_review должен быть сразу же переведён из строкового в числовой формат,\n",
    "а review_date - в формат datetime."
   ]
  },
  {
   "cell_type": "code",
   "execution_count": 27,
   "metadata": {},
   "outputs": [],
   "source": [
    "X['review_date'] = pd.to_datetime(X['review_date'], format='%m/%d/%Y')\n",
    "X['days_since_review'] = X['days_since_review'].apply(lambda x: int(x[:-4]))"
   ]
  },
  {
   "attachments": {},
   "cell_type": "markdown",
   "metadata": {},
   "source": [
    "### Устранение пропусков в признаках lat и lng"
   ]
  },
  {
   "cell_type": "code",
   "execution_count": 5,
   "metadata": {},
   "outputs": [
    {
     "name": "stdout",
     "output_type": "stream",
     "text": [
      "Процент пропусков: 0.6%\n"
     ]
    }
   ],
   "source": [
    "missing_num = sum(X['lat'].isna())\n",
    "\n",
    "print('Процент пропусков: ', str(round((missing_num/X.shape[0]) * 100, 1)), '%')"
   ]
  },
  {
   "attachments": {},
   "cell_type": "markdown",
   "metadata": {},
   "source": [
    "Так как пропуски наличествуют всего лишь в двух признаках, и при этом в обоих занимают менее процента от общего объёма данных в них,\n",
    "в данном проекте не будут использоваться продвинутые методы заполнения пропусков в данных. Вместо этого пропущенные значения будут просто\n",
    "заменены нулями."
   ]
  },
  {
   "cell_type": "code",
   "execution_count": 28,
   "metadata": {},
   "outputs": [],
   "source": [
    "X = X.fillna(0)"
   ]
  },
  {
   "attachments": {},
   "cell_type": "markdown",
   "metadata": {},
   "source": [
    "### Базовая обработка дат оставления отзывов\n",
    "\n",
    "Посмотрим на диапазон дат, в которые были оставлены отзывы:"
   ]
  },
  {
   "cell_type": "code",
   "execution_count": 7,
   "metadata": {},
   "outputs": [
    {
     "name": "stdout",
     "output_type": "stream",
     "text": [
      "2015-08-04 00:00:00 2017-08-03 00:00:00\n"
     ]
    }
   ],
   "source": [
    "print(X['review_date'].min(), X['review_date'].max())"
   ]
  },
  {
   "attachments": {},
   "cell_type": "markdown",
   "metadata": {},
   "source": [
    "Видно, что все отзывы в датасете были оставлены на протяжении двух лет: с августа 2015 по август 2017. \n",
    "Из-за небольшого диапазона лет информация о годе оставления отзыва является малополезной (вряд ли типичный турист из 2015 г.\n",
    "будет сколько-нибудь заметно отличаться в своих ожиданиях и предпочтениях от туриста из 2017 г.). С другой стороны, так же маловероятно,\n",
    "что на настроение рецензета должен влиять точный день оставления отзыва.\n",
    "\n",
    "Имеет смысл оставить только месяц оставления отзыва (в самом деле, предпочтения людей, путешествующих в разное время года, могут сильно отличаться), \n",
    "выделив его в отдельный признак, а от исходного признака даты избавиться на этапе финального удаления нечисловых признаков."
   ]
  },
  {
   "cell_type": "code",
   "execution_count": 29,
   "metadata": {},
   "outputs": [],
   "source": [
    "X['review_month'] = X['review_date'].apply(lambda x: x.month)"
   ]
  },
  {
   "attachments": {},
   "cell_type": "markdown",
   "metadata": {},
   "source": [
    "### Базовая обработка национальностей рецензентов (reviewer_nationality):\n",
    "\n",
    "Потенциально важным признаком может оказаться национальность рецензента.\n",
    "Полезно будет присмотреться к нему подробнее. Посмотрим на наиболее и наименее часто представленные в датасете национальности."
   ]
  },
  {
   "cell_type": "code",
   "execution_count": 9,
   "metadata": {},
   "outputs": [
    {
     "data": {
      "text/plain": [
       "reviewer_nationality\n",
       " United Kingdom               184033\n",
       " United States of America      26541\n",
       " Australia                     16239\n",
       " Ireland                       11126\n",
       " United Arab Emirates           7617\n",
       "                               ...  \n",
       " Cook Islands                      1\n",
       " Guinea                            1\n",
       " Comoros                           1\n",
       " Anguilla                          1\n",
       " Grenada                           1\n",
       "Name: count, Length: 225, dtype: int64"
      ]
     },
     "execution_count": 9,
     "metadata": {},
     "output_type": "execute_result"
    }
   ],
   "source": [
    "X['reviewer_nationality'].value_counts()"
   ]
  },
  {
   "attachments": {},
   "cell_type": "markdown",
   "metadata": {},
   "source": [
    "Также присмотримся к синтаксису типичного значения этого признака:\n"
   ]
  },
  {
   "cell_type": "code",
   "execution_count": 10,
   "metadata": {},
   "outputs": [
    {
     "data": {
      "text/plain": [
       "' United Kingdom '"
      ]
     },
     "execution_count": 10,
     "metadata": {},
     "output_type": "execute_result"
    }
   ],
   "source": [
    "X['reviewer_nationality'][0]"
   ]
  },
  {
   "attachments": {},
   "cell_type": "markdown",
   "metadata": {},
   "source": [
    "Можно увидеть, что значения этого признака \"обрамлены\" пробелами с обеих сторон. \n",
    "Для удобства дальнейшей обработки от них можно сразу же избавиться:"
   ]
  },
  {
   "cell_type": "code",
   "execution_count": 30,
   "metadata": {},
   "outputs": [
    {
     "data": {
      "text/plain": [
       "'United Kingdom'"
      ]
     },
     "execution_count": 30,
     "metadata": {},
     "output_type": "execute_result"
    }
   ],
   "source": [
    "X['reviewer_nationality'] = X['reviewer_nationality'].apply(lambda x: x[1:-1])\n",
    "X['reviewer_nationality'][0]"
   ]
  },
  {
   "attachments": {},
   "cell_type": "markdown",
   "metadata": {},
   "source": [
    "#### Свойства признака национальности рецензентов, представляющие интерес:\n",
    "\n",
    "- В датасете представлены 225 национальностей со всего мира, включая малонаселённые отдалённые территории.\n",
    "\n",
    "- Однако, около половины всех отзывов были оставлены британцами. Такая аномально большая большая пропорция, возможно, требует дальнейшего исследования.\n",
    "\n",
    "На первой итерации обучения модели, однако, национальность рецензентов использоваться не будет - её предназначением будет оценить точность модели до проведения инженерии признаков.\n",
    "\n",
    "**Внимание:** В данном проекте не будет производиться нормализация или стандартизация исходных данных, т.к. они не приносят полезного эффекта при использовании с алгоритмом случайного леса, который применяется в данном проекте как основа модели."
   ]
  },
  {
   "attachments": {},
   "cell_type": "markdown",
   "metadata": {},
   "source": [
    "## Первая итерация обучения модели на обработанных данных"
   ]
  },
  {
   "cell_type": "code",
   "execution_count": 31,
   "metadata": {},
   "outputs": [],
   "source": [
    "from sklearn.ensemble import RandomForestRegressor # инструмент для создания и обучения модели  \n",
    "from sklearn import metrics # инструменты для оценки точности модели   \n",
    "from sklearn.model_selection import train_test_split #инструмент для разбивки "
   ]
  },
  {
   "cell_type": "code",
   "execution_count": 32,
   "metadata": {},
   "outputs": [],
   "source": [
    "#Удаляем нечисловые значения\n",
    "X = X.drop(['hotel_address', 'hotel_name', 'reviewer_nationality', 'negative_review',\n",
    "            'positive_review', 'tags', 'review_date'], axis=1)\n",
    "\n",
    "# Наборы данных с меткой \"train\" будут использоваться для обучения модели, \"test\" - для тестирования.  \n",
    "# Для тестирования используется 25% от исходного датасета.  \n",
    "X_train_1, X_test_1, y_train_1, y_test_1 = train_test_split(X, y, test_size=0.25, random_state=42)"
   ]
  },
  {
   "cell_type": "code",
   "execution_count": 33,
   "metadata": {},
   "outputs": [
    {
     "name": "stdout",
     "output_type": "stream",
     "text": [
      "MAPE: 0.1375711583743227\n"
     ]
    }
   ],
   "source": [
    "# Создаём модель  \n",
    "regr = RandomForestRegressor(n_estimators=100)  \n",
    "      \n",
    "# Обучаем модель на тестовом наборе данных  \n",
    "regr.fit(X_train_1, y_train_1)  \n",
    "\n",
    "# Используем обученную модель для предсказания рейтинга отелей в тестовой выборке.  \n",
    "# Предсказанные значения записываем в переменную y_pred  \n",
    "y_pred_1 = regr.predict(X_test_1)\n",
    "\n",
    "# Сравниваем предсказанные значения (y_pred) с реальными (y_test), и смотрим насколько они отличаются \n",
    "print('MAPE:', metrics.mean_absolute_percentage_error(y_test_1, y_pred_1))"
   ]
  },
  {
   "cell_type": "code",
   "execution_count": 35,
   "metadata": {},
   "outputs": [
    {
     "name": "stdout",
     "output_type": "stream",
     "text": [
      "Точность модели на текущей итерации: 86.24300000000001 %\n"
     ]
    }
   ],
   "source": [
    "print('Точность модели на текущей итерации:', (1 - 0.13757)*100, '%')"
   ]
  },
  {
   "attachments": {},
   "cell_type": "markdown",
   "metadata": {},
   "source": [
    "Полученное выше значение точности модели в дальнейшем будем считать базовым - сравнение с ним будет использоваться для оценки эффективности новых конструируемых признаков."
   ]
  },
  {
   "attachments": {},
   "cell_type": "markdown",
   "metadata": {},
   "source": [
    "# Часть 2.\n",
    "\n",
    "# Анализ и обработка текстов отзывов и наборов тегов, их сопровождающих. "
   ]
  },
  {
   "attachments": {},
   "cell_type": "markdown",
   "metadata": {},
   "source": [
    "## Приведение признака tags к удобному для обработки виду"
   ]
  },
  {
   "attachments": {},
   "cell_type": "markdown",
   "metadata": {},
   "source": [
    "Сначала вернём в датасет X данные признаки:"
   ]
  },
  {
   "cell_type": "code",
   "execution_count": 38,
   "metadata": {},
   "outputs": [],
   "source": [
    "X['tags'] = hotels['tags']\n",
    "X['positive_review'] = hotels['positive_review']\n",
    "X['negative_review'] = hotels['negative_review']"
   ]
  },
  {
   "attachments": {},
   "cell_type": "markdown",
   "metadata": {},
   "source": [
    "Синтаксис типичного значения признака tags:"
   ]
  },
  {
   "cell_type": "code",
   "execution_count": 12,
   "metadata": {},
   "outputs": [
    {
     "data": {
      "text/plain": [
       "\"[' Leisure trip ', ' Couple ', ' Studio Suite ', ' Stayed 2 nights ', ' Submitted from a mobile device ']\""
      ]
     },
     "execution_count": 12,
     "metadata": {},
     "output_type": "execute_result"
    }
   ],
   "source": [
    "X['tags'][0]"
   ]
  },
  {
   "attachments": {},
   "cell_type": "markdown",
   "metadata": {},
   "source": [
    "Значение представляет собой перечисление содержащихся в нём тегов через запятые, после каждой из которых стоит пробел.\n",
    "В дополнение к этому каждый тег заключен в двойное обрамление - внешнее из апострофов и внутреннее из пробелов.\n",
    "Вся конструкция заключена в квадратные скобки.\n",
    "\n",
    "При преобразовании значений в стандартный Python-список оставляем в каждом теге только собственно текст тега."
   ]
  },
  {
   "cell_type": "code",
   "execution_count": 39,
   "metadata": {},
   "outputs": [],
   "source": [
    "def tag_parser(tag_string):\n",
    "    tag_list = tag_string.split(sep=' \\', \\' ')\n",
    "    tag_list[0] = tag_list[0][3:]\n",
    "    tag_list[-1] = tag_list[-1][:-3]\n",
    "    return tag_list\n",
    "\n",
    "X['tags'] = X['tags'].apply(tag_parser)"
   ]
  },
  {
   "attachments": {},
   "cell_type": "markdown",
   "metadata": {},
   "source": [
    "## Получение списка самых популярных тегов среди всех рецензентов "
   ]
  },
  {
   "cell_type": "code",
   "execution_count": 14,
   "metadata": {},
   "outputs": [
    {
     "data": {
      "text/plain": [
       "Leisure trip                      313593\n",
       "Submitted from a mobile device    230778\n",
       "Couple                            189212\n",
       "Stayed 1 night                    145373\n",
       "Stayed 2 nights                   100263\n",
       "Solo traveler                      81235\n",
       "Stayed 3 nights                    72000\n",
       "Business trip                      61989\n",
       "Group                              49088\n",
       "Family with young children         45836\n",
       "dtype: int64"
      ]
     },
     "execution_count": 14,
     "metadata": {},
     "output_type": "execute_result"
    }
   ],
   "source": [
    "tag_count = dict()\n",
    "\n",
    "def tag_counter(tag_list):\n",
    "    global tag_count\n",
    "    for tag in tag_list:\n",
    "        if tag in tag_count.keys():\n",
    "            tag_count[tag] = tag_count[tag] + 1\n",
    "        else:\n",
    "            tag_count[tag] = 1\n",
    "    return None\n",
    "\n",
    "X['tags'].apply(tag_counter)\n",
    "tag_count = pd.Series(tag_count)\n",
    "tag_count.sort_values(ascending=False)[:10]"
   ]
  },
  {
   "attachments": {},
   "cell_type": "markdown",
   "metadata": {},
   "source": [
    "### Промежуточный вывод:\n",
    "\n",
    "- Пять наиболее часто встречающихся тегов, также являющихся единственными тегами, присутствующими в датасете в количестве более ста тысяч - это \n",
    " теги Leisure trip, Submitted from a mobile device, Couple, Stayed 1 night и Stayed 2 nights. \n",
    " \n",
    " В целях экономии времени и вычислительных ресурсов будем в дальнейшем учитывать только эти пять тегов, а информацию об остальных отбросим. "
   ]
  },
  {
   "attachments": {},
   "cell_type": "markdown",
   "metadata": {},
   "source": [
    "## Кодирование пятёрки самых популярных тегов с помощью One Hot Encoding"
   ]
  },
  {
   "cell_type": "code",
   "execution_count": 40,
   "metadata": {},
   "outputs": [],
   "source": [
    "def tag_encoder(tag_list):\n",
    "    if tag_checked in tag_list:\n",
    "        return 1\n",
    "    else:\n",
    "        return 0\n",
    "    \n",
    "for tag in ['Leisure trip', 'Submitted from a mobile device',\n",
    "                'Couple', 'Stayed 1 night', 'Stayed 2 nights']:\n",
    "    tag_checked = tag\n",
    "    X[tag]=X['tags'].apply(tag_encoder)"
   ]
  },
  {
   "attachments": {},
   "cell_type": "markdown",
   "metadata": {},
   "source": [
    "## Парсинг отзывов\n",
    "\n",
    "Разобьём тексты отзывов на отдельные слова и посмотрим, какие слова чаще всего встречаются в позитивных отзывах, а какие - в негативных. "
   ]
  },
  {
   "cell_type": "code",
   "execution_count": 41,
   "metadata": {},
   "outputs": [],
   "source": [
    "def review_parser(text):\n",
    "    result = []\n",
    "    for word in text.split():\n",
    "        if len(word)>3:#Необходимо, чтобы исключить бесполезные для нас артикли, предлоги и.т.п. из списка слов.\n",
    "            result.append(word.lower())\n",
    "    return result\n",
    "\n",
    "X['positive_review'] = X['positive_review'].apply(review_parser)\n",
    "X['negative_review'] = X['negative_review'].apply(review_parser)"
   ]
  },
  {
   "attachments": {},
   "cell_type": "markdown",
   "metadata": {},
   "source": [
    "Аналогично подсчёту, проводившемуся в списках тегов, посчитаем слова в текстах отзывов во всём датасете и посмотрим на десять самых \n",
    "часто встречающихся слов в хороших отзывах и десять самых часто встречающихся слов в отзывах плохих."
   ]
  },
  {
   "attachments": {},
   "cell_type": "markdown",
   "metadata": {},
   "source": [
    "### Самые частотные слова в позитивных отзывах:"
   ]
  },
  {
   "cell_type": "code",
   "execution_count": 17,
   "metadata": {},
   "outputs": [
    {
     "data": {
      "text/plain": [
       "staff        145874\n",
       "location     144568\n",
       "very         144568\n",
       "room         105728\n",
       "hotel         94000\n",
       "good          84480\n",
       "great         79160\n",
       "were          68308\n",
       "friendly      63870\n",
       "breakfast     63307\n",
       "dtype: int64"
      ]
     },
     "execution_count": 17,
     "metadata": {},
     "output_type": "execute_result"
    }
   ],
   "source": [
    "good_review_word_count = dict()\n",
    "\n",
    "def good_review_word_counter(word_list):\n",
    "    global good_review_word_count\n",
    "    for word in word_list:\n",
    "        if word in good_review_word_count.keys():\n",
    "            good_review_word_count[word] = good_review_word_count[word] + 1\n",
    "        else:\n",
    "            good_review_word_count[word] = 1\n",
    "    return None\n",
    "\n",
    "X['positive_review'].apply(good_review_word_counter)\n",
    "pd.Series(good_review_word_count).sort_values(ascending=False)[:10]"
   ]
  },
  {
   "attachments": {},
   "cell_type": "markdown",
   "metadata": {},
   "source": [
    "### Самые частотные слова в негативных отзывах:"
   ]
  },
  {
   "cell_type": "code",
   "execution_count": 18,
   "metadata": {},
   "outputs": [
    {
     "data": {
      "text/plain": [
       "room         132025\n",
       "negative      97092\n",
       "very          60354\n",
       "hotel         55916\n",
       "were          46215\n",
       "that          44238\n",
       "breakfast     43528\n",
       "have          41060\n",
       "with          38968\n",
       "small         37372\n",
       "dtype: int64"
      ]
     },
     "execution_count": 18,
     "metadata": {},
     "output_type": "execute_result"
    }
   ],
   "source": [
    "bad_review_word_count = dict()\n",
    "\n",
    "def bad_review_word_counter(word_list):\n",
    "    global bad_review_word_count\n",
    "    for word in word_list:\n",
    "        if word in bad_review_word_count.keys():\n",
    "            bad_review_word_count[word] = bad_review_word_count[word] + 1\n",
    "        else:\n",
    "            bad_review_word_count[word] = 1\n",
    "    return None\n",
    "\n",
    "X['negative_review'].apply(bad_review_word_counter)\n",
    "pd.Series(bad_review_word_count).sort_values(ascending=False)[:10]"
   ]
  },
  {
   "attachments": {},
   "cell_type": "markdown",
   "metadata": {},
   "source": [
    "### Промежуточные выводы:\n",
    "\n",
    "- Люди, оставивишие положительные отзывы, больше всего хвалят персонал (stuff), расположение отеля (location), номер (room) и завтрак (breakfast)\n",
    "\n",
    "- Люди, оставившие отрицательные отзывы, более всего ругают номер (room) и завтрак (breakfast)\n",
    "\n",
    "Переведём эту информацию в числовой формат, также используя One Hot Encoding."
   ]
  },
  {
   "cell_type": "code",
   "execution_count": 42,
   "metadata": {},
   "outputs": [
    {
     "data": {
      "text/html": [
       "<div>\n",
       "<style scoped>\n",
       "    .dataframe tbody tr th:only-of-type {\n",
       "        vertical-align: middle;\n",
       "    }\n",
       "\n",
       "    .dataframe tbody tr th {\n",
       "        vertical-align: top;\n",
       "    }\n",
       "\n",
       "    .dataframe thead th {\n",
       "        text-align: right;\n",
       "    }\n",
       "</style>\n",
       "<table border=\"1\" class=\"dataframe\">\n",
       "  <thead>\n",
       "    <tr style=\"text-align: right;\">\n",
       "      <th></th>\n",
       "      <th>additional_number_of_scoring</th>\n",
       "      <th>average_score</th>\n",
       "      <th>review_total_negative_word_counts</th>\n",
       "      <th>total_number_of_reviews</th>\n",
       "      <th>review_total_positive_word_counts</th>\n",
       "      <th>total_number_of_reviews_reviewer_has_given</th>\n",
       "      <th>days_since_review</th>\n",
       "      <th>lat</th>\n",
       "      <th>lng</th>\n",
       "      <th>review_month</th>\n",
       "      <th>...</th>\n",
       "      <th>Submitted from a mobile device</th>\n",
       "      <th>Couple</th>\n",
       "      <th>Stayed 1 night</th>\n",
       "      <th>Stayed 2 nights</th>\n",
       "      <th>good_stuff</th>\n",
       "      <th>good_location</th>\n",
       "      <th>good_room</th>\n",
       "      <th>good_breakfast</th>\n",
       "      <th>bad_room</th>\n",
       "      <th>bad_breakfast</th>\n",
       "    </tr>\n",
       "  </thead>\n",
       "  <tbody>\n",
       "    <tr>\n",
       "      <th>67821</th>\n",
       "      <td>398</td>\n",
       "      <td>8.7</td>\n",
       "      <td>18</td>\n",
       "      <td>3754</td>\n",
       "      <td>0</td>\n",
       "      <td>3</td>\n",
       "      <td>339</td>\n",
       "      <td>45.463068</td>\n",
       "      <td>9.197937</td>\n",
       "      <td>8</td>\n",
       "      <td>...</td>\n",
       "      <td>0</td>\n",
       "      <td>0</td>\n",
       "      <td>1</td>\n",
       "      <td>0</td>\n",
       "      <td>0</td>\n",
       "      <td>0</td>\n",
       "      <td>0</td>\n",
       "      <td>0</td>\n",
       "      <td>0</td>\n",
       "      <td>0</td>\n",
       "    </tr>\n",
       "    <tr>\n",
       "      <th>383411</th>\n",
       "      <td>256</td>\n",
       "      <td>7.8</td>\n",
       "      <td>26</td>\n",
       "      <td>882</td>\n",
       "      <td>13</td>\n",
       "      <td>5</td>\n",
       "      <td>228</td>\n",
       "      <td>51.493741</td>\n",
       "      <td>-0.244896</td>\n",
       "      <td>12</td>\n",
       "      <td>...</td>\n",
       "      <td>0</td>\n",
       "      <td>1</td>\n",
       "      <td>1</td>\n",
       "      <td>0</td>\n",
       "      <td>0</td>\n",
       "      <td>0</td>\n",
       "      <td>0</td>\n",
       "      <td>0</td>\n",
       "      <td>0</td>\n",
       "      <td>0</td>\n",
       "    </tr>\n",
       "    <tr>\n",
       "      <th>268473</th>\n",
       "      <td>1444</td>\n",
       "      <td>7.8</td>\n",
       "      <td>23</td>\n",
       "      <td>5726</td>\n",
       "      <td>21</td>\n",
       "      <td>1</td>\n",
       "      <td>483</td>\n",
       "      <td>51.493508</td>\n",
       "      <td>-0.183435</td>\n",
       "      <td>4</td>\n",
       "      <td>...</td>\n",
       "      <td>0</td>\n",
       "      <td>1</td>\n",
       "      <td>1</td>\n",
       "      <td>0</td>\n",
       "      <td>0</td>\n",
       "      <td>0</td>\n",
       "      <td>1</td>\n",
       "      <td>0</td>\n",
       "      <td>1</td>\n",
       "      <td>0</td>\n",
       "    </tr>\n",
       "  </tbody>\n",
       "</table>\n",
       "<p>3 rows × 24 columns</p>\n",
       "</div>"
      ],
      "text/plain": [
       "        additional_number_of_scoring  average_score   \n",
       "67821                            398            8.7  \\\n",
       "383411                           256            7.8   \n",
       "268473                          1444            7.8   \n",
       "\n",
       "        review_total_negative_word_counts  total_number_of_reviews   \n",
       "67821                                  18                     3754  \\\n",
       "383411                                 26                      882   \n",
       "268473                                 23                     5726   \n",
       "\n",
       "        review_total_positive_word_counts   \n",
       "67821                                   0  \\\n",
       "383411                                 13   \n",
       "268473                                 21   \n",
       "\n",
       "        total_number_of_reviews_reviewer_has_given  days_since_review   \n",
       "67821                                            3                339  \\\n",
       "383411                                           5                228   \n",
       "268473                                           1                483   \n",
       "\n",
       "              lat       lng  review_month  ... Submitted from a mobile device   \n",
       "67821   45.463068  9.197937             8  ...                              0  \\\n",
       "383411  51.493741 -0.244896            12  ...                              0   \n",
       "268473  51.493508 -0.183435             4  ...                              0   \n",
       "\n",
       "       Couple Stayed 1 night  Stayed 2 nights  good_stuff  good_location   \n",
       "67821       0              1                0           0              0  \\\n",
       "383411      1              1                0           0              0   \n",
       "268473      1              1                0           0              0   \n",
       "\n",
       "        good_room  good_breakfast  bad_room  bad_breakfast  \n",
       "67821           0               0         0              0  \n",
       "383411          0               0         0              0  \n",
       "268473          1               0         1              0  \n",
       "\n",
       "[3 rows x 24 columns]"
      ]
     },
     "execution_count": 42,
     "metadata": {},
     "output_type": "execute_result"
    }
   ],
   "source": [
    "def word_encoder(word_list):\n",
    "    if word_checked in word_list:\n",
    "        return 1\n",
    "    else:\n",
    "        return 0\n",
    "    \n",
    "for word in ['stuff', 'location', 'room', 'breakfast']:\n",
    "    word_checked = word\n",
    "    X['good_'+word]=X['positive_review'].apply(word_encoder)\n",
    "\n",
    "for word in ['room', 'breakfast']:\n",
    "    word_checked = word\n",
    "    X['bad_'+word]=X['negative_review'].apply(word_encoder)\n",
    "\n",
    "X.sample(3)"
   ]
  },
  {
   "attachments": {},
   "cell_type": "markdown",
   "metadata": {},
   "source": [
    "## Вторая итерация обучения модели "
   ]
  },
  {
   "cell_type": "code",
   "execution_count": 45,
   "metadata": {},
   "outputs": [
    {
     "name": "stdout",
     "output_type": "stream",
     "text": [
      "MAPE: 0.1350856464140379\n"
     ]
    }
   ],
   "source": [
    "X = X.drop(['tags', 'positive_review', 'negative_review'], axis=1)\n",
    "\n",
    "X_train_2, X_test_2, y_train_2, y_test_2 = train_test_split(X, y, test_size=0.25, random_state=42)\n",
    "      \n",
    "regr.fit(X_train_2, y_train_2)  \n",
    " \n",
    "y_pred_2 = regr.predict(X_test_2)\n",
    "\n",
    "print('MAPE:', metrics.mean_absolute_percentage_error(y_test_2, y_pred_2))"
   ]
  },
  {
   "cell_type": "code",
   "execution_count": 46,
   "metadata": {},
   "outputs": [
    {
     "name": "stdout",
     "output_type": "stream",
     "text": [
      "Точность модели на текущей итерации: 86.492 %\n"
     ]
    }
   ],
   "source": [
    "print('Точность модели на текущей итерации:', (1 - 0.13508)*100, '%')"
   ]
  },
  {
   "attachments": {},
   "cell_type": "markdown",
   "metadata": {},
   "source": [
    "Как можно видеть, информация о наличии в отзыве одного или нескольких популярных тегов, а также полученная при парсинге текстов самих отзывов, является полезной - включение её в модель приводит к суммарному повышению её точности почти на половину процента. "
   ]
  },
  {
   "attachments": {},
   "cell_type": "markdown",
   "metadata": {},
   "source": [
    "# Часть 3.\n",
    "\n",
    "# Кодирование национальности рецензентов."
   ]
  },
  {
   "attachments": {},
   "cell_type": "markdown",
   "metadata": {},
   "source": [
    "Возвращаем в X колонку с национальностями рецензентов из исходного датасета."
   ]
  },
  {
   "cell_type": "code",
   "execution_count": 47,
   "metadata": {},
   "outputs": [],
   "source": [
    "X['reviewer_nationality'] = hotels['reviewer_nationality']\n",
    "X['reviewer_nationality'] = X['reviewer_nationality'].apply(lambda x: x[1:-1])"
   ]
  },
  {
   "attachments": {},
   "cell_type": "markdown",
   "metadata": {},
   "source": [
    "## Получение и форматирование информации о населении стран из внешнего источника"
   ]
  },
  {
   "attachments": {},
   "cell_type": "markdown",
   "metadata": {},
   "source": [
    "В данном проекте будет использоваться числовая кодировка национальностей с помощью представления \n",
    "каждой страны или территории в виде численности её населения. Информация о численности населения стран и территорий возьмём из общедоступного источника."
   ]
  },
  {
   "cell_type": "code",
   "execution_count": 48,
   "metadata": {},
   "outputs": [
    {
     "data": {
      "text/html": [
       "<div>\n",
       "<style scoped>\n",
       "    .dataframe tbody tr th:only-of-type {\n",
       "        vertical-align: middle;\n",
       "    }\n",
       "\n",
       "    .dataframe tbody tr th {\n",
       "        vertical-align: top;\n",
       "    }\n",
       "\n",
       "    .dataframe thead th {\n",
       "        text-align: right;\n",
       "    }\n",
       "</style>\n",
       "<table border=\"1\" class=\"dataframe\">\n",
       "  <thead>\n",
       "    <tr style=\"text-align: right;\">\n",
       "      <th></th>\n",
       "      <th>Country</th>\n",
       "      <th>Region</th>\n",
       "      <th>Population</th>\n",
       "      <th>Area (sq. mi.)</th>\n",
       "      <th>Pop. Density (per sq. mi.)</th>\n",
       "      <th>Coastline (coast/area ratio)</th>\n",
       "      <th>Net migration</th>\n",
       "      <th>Infant mortality (per 1000 births)</th>\n",
       "      <th>GDP ($ per capita)</th>\n",
       "      <th>Literacy (%)</th>\n",
       "      <th>Phones (per 1000)</th>\n",
       "      <th>Arable (%)</th>\n",
       "      <th>Crops (%)</th>\n",
       "      <th>Other (%)</th>\n",
       "      <th>Climate</th>\n",
       "      <th>Birthrate</th>\n",
       "      <th>Deathrate</th>\n",
       "      <th>Agriculture</th>\n",
       "      <th>Industry</th>\n",
       "      <th>Service</th>\n",
       "    </tr>\n",
       "  </thead>\n",
       "  <tbody>\n",
       "    <tr>\n",
       "      <th>110</th>\n",
       "      <td>Korea, South</td>\n",
       "      <td>ASIA (EX. NEAR EAST)</td>\n",
       "      <td>48846823</td>\n",
       "      <td>98480</td>\n",
       "      <td>496,0</td>\n",
       "      <td>2,45</td>\n",
       "      <td>0</td>\n",
       "      <td>7,05</td>\n",
       "      <td>17800.0</td>\n",
       "      <td>97,9</td>\n",
       "      <td>486,1</td>\n",
       "      <td>17,18</td>\n",
       "      <td>1,95</td>\n",
       "      <td>80,87</td>\n",
       "      <td>3</td>\n",
       "      <td>10</td>\n",
       "      <td>5,85</td>\n",
       "      <td>0,033</td>\n",
       "      <td>0,403</td>\n",
       "      <td>0,563</td>\n",
       "    </tr>\n",
       "  </tbody>\n",
       "</table>\n",
       "</div>"
      ],
      "text/plain": [
       "           Country                         Region  Population  Area (sq. mi.)   \n",
       "110  Korea, South   ASIA (EX. NEAR EAST)             48846823           98480  \\\n",
       "\n",
       "    Pop. Density (per sq. mi.) Coastline (coast/area ratio) Net migration   \n",
       "110                      496,0                         2,45             0  \\\n",
       "\n",
       "    Infant mortality (per 1000 births)  GDP ($ per capita) Literacy (%)   \n",
       "110                               7,05             17800.0         97,9  \\\n",
       "\n",
       "    Phones (per 1000) Arable (%) Crops (%) Other (%) Climate Birthrate   \n",
       "110             486,1      17,18      1,95     80,87       3        10  \\\n",
       "\n",
       "    Deathrate Agriculture Industry Service  \n",
       "110      5,85       0,033    0,403   0,563  "
      ]
     },
     "execution_count": 48,
     "metadata": {},
     "output_type": "execute_result"
    }
   ],
   "source": [
    "# Общедоступный датасет, содержащий информацию о странах мира (разработчик - Bnokoro)\n",
    "url = 'https://raw.githubusercontent.com/bnokoro/Data-Science/master/countries%20of%20the%20world.csv'\n",
    "\n",
    "countries = pd.read_csv(url)\n",
    "countries[countries['Country']=='Korea, South ']"
   ]
  },
  {
   "attachments": {},
   "cell_type": "markdown",
   "metadata": {},
   "source": [
    "Нам нужна только информация о названиях стран и их населении.\n",
    "Выделим эти два признака в отдельный датасет."
   ]
  },
  {
   "cell_type": "code",
   "execution_count": 49,
   "metadata": {},
   "outputs": [
    {
     "data": {
      "text/html": [
       "<div>\n",
       "<style scoped>\n",
       "    .dataframe tbody tr th:only-of-type {\n",
       "        vertical-align: middle;\n",
       "    }\n",
       "\n",
       "    .dataframe tbody tr th {\n",
       "        vertical-align: top;\n",
       "    }\n",
       "\n",
       "    .dataframe thead th {\n",
       "        text-align: right;\n",
       "    }\n",
       "</style>\n",
       "<table border=\"1\" class=\"dataframe\">\n",
       "  <thead>\n",
       "    <tr style=\"text-align: right;\">\n",
       "      <th></th>\n",
       "      <th>Country</th>\n",
       "      <th>Population</th>\n",
       "    </tr>\n",
       "  </thead>\n",
       "  <tbody>\n",
       "    <tr>\n",
       "      <th>136</th>\n",
       "      <td>Micronesia, Fed. St.</td>\n",
       "      <td>108004</td>\n",
       "    </tr>\n",
       "    <tr>\n",
       "      <th>66</th>\n",
       "      <td>Faroe Islands</td>\n",
       "      <td>47246</td>\n",
       "    </tr>\n",
       "    <tr>\n",
       "      <th>53</th>\n",
       "      <td>Czech Republic</td>\n",
       "      <td>10235455</td>\n",
       "    </tr>\n",
       "    <tr>\n",
       "      <th>45</th>\n",
       "      <td>Congo, Dem. Rep.</td>\n",
       "      <td>62660551</td>\n",
       "    </tr>\n",
       "    <tr>\n",
       "      <th>122</th>\n",
       "      <td>Macau</td>\n",
       "      <td>453125</td>\n",
       "    </tr>\n",
       "  </tbody>\n",
       "</table>\n",
       "</div>"
      ],
      "text/plain": [
       "                   Country  Population\n",
       "136  Micronesia, Fed. St.       108004\n",
       "66          Faroe Islands        47246\n",
       "53         Czech Republic     10235455\n",
       "45       Congo, Dem. Rep.     62660551\n",
       "122                 Macau       453125"
      ]
     },
     "execution_count": 49,
     "metadata": {},
     "output_type": "execute_result"
    }
   ],
   "source": [
    "populations = countries[['Country', 'Population']]\n",
    "populations.sample(5)"
   ]
  },
  {
   "attachments": {},
   "cell_type": "markdown",
   "metadata": {},
   "source": [
    "После каждого названия страны в populations['Country'] пристутствует лишний пробел. Удаляем его:"
   ]
  },
  {
   "cell_type": "code",
   "execution_count": 50,
   "metadata": {},
   "outputs": [
    {
     "name": "stderr",
     "output_type": "stream",
     "text": [
      "C:\\Users\\New\\AppData\\Local\\Temp\\ipykernel_7948\\3431658343.py:1: SettingWithCopyWarning: \n",
      "A value is trying to be set on a copy of a slice from a DataFrame.\n",
      "Try using .loc[row_indexer,col_indexer] = value instead\n",
      "\n",
      "See the caveats in the documentation: https://pandas.pydata.org/pandas-docs/stable/user_guide/indexing.html#returning-a-view-versus-a-copy\n",
      "  populations['Country'] = populations['Country'].apply(lambda x: x[:-1])\n"
     ]
    },
    {
     "data": {
      "text/plain": [
       "'Afghanistan'"
      ]
     },
     "execution_count": 50,
     "metadata": {},
     "output_type": "execute_result"
    }
   ],
   "source": [
    "populations['Country'] = populations['Country'].apply(lambda x: x[:-1])\n",
    "populations['Country'][0]"
   ]
  },
  {
   "attachments": {},
   "cell_type": "markdown",
   "metadata": {},
   "source": [
    "При объединении датасетов может возникнуть проблема, если в них используются разные названия для части государств.\n",
    "Скорее всего, оба датасета используют самые общеупотребительные в английском языке варианты названий государств без аббревиации\n",
    "(e.g. China вместо People's Republic of China или PRC), но для США варианты United States и United States of America общеприняты в примерно одинаковой мере, поэтому их нужно проверить. "
   ]
  },
  {
   "cell_type": "code",
   "execution_count": null,
   "metadata": {},
   "outputs": [
    {
     "data": {
      "text/html": [
       "<div>\n",
       "<style scoped>\n",
       "    .dataframe tbody tr th:only-of-type {\n",
       "        vertical-align: middle;\n",
       "    }\n",
       "\n",
       "    .dataframe tbody tr th {\n",
       "        vertical-align: top;\n",
       "    }\n",
       "\n",
       "    .dataframe thead th {\n",
       "        text-align: right;\n",
       "    }\n",
       "</style>\n",
       "<table border=\"1\" class=\"dataframe\">\n",
       "  <thead>\n",
       "    <tr style=\"text-align: right;\">\n",
       "      <th></th>\n",
       "      <th>Country</th>\n",
       "      <th>Population</th>\n",
       "    </tr>\n",
       "  </thead>\n",
       "  <tbody>\n",
       "    <tr>\n",
       "      <th>214</th>\n",
       "      <td>United States</td>\n",
       "      <td>298444215</td>\n",
       "    </tr>\n",
       "  </tbody>\n",
       "</table>\n",
       "</div>"
      ],
      "text/plain": [
       "           Country  Population\n",
       "214  United States   298444215"
      ]
     },
     "execution_count": 30,
     "metadata": {},
     "output_type": "execute_result"
    }
   ],
   "source": [
    "populations[populations['Country']=='United States']"
   ]
  },
  {
   "attachments": {},
   "cell_type": "markdown",
   "metadata": {},
   "source": [
    "Populations использует вариант United States, но выше мы уже видели, что в X используется вариант United States of America.\n",
    "Необходимо исправить это, приведя названия к одному виду: "
   ]
  },
  {
   "cell_type": "code",
   "execution_count": 51,
   "metadata": {},
   "outputs": [
    {
     "name": "stderr",
     "output_type": "stream",
     "text": [
      "C:\\Users\\New\\AppData\\Local\\Temp\\ipykernel_7948\\650688980.py:7: SettingWithCopyWarning: \n",
      "A value is trying to be set on a copy of a slice from a DataFrame.\n",
      "Try using .loc[row_indexer,col_indexer] = value instead\n",
      "\n",
      "See the caveats in the documentation: https://pandas.pydata.org/pandas-docs/stable/user_guide/indexing.html#returning-a-view-versus-a-copy\n",
      "  populations['Country'] = populations['Country'].apply(usa_format_fixer)\n"
     ]
    },
    {
     "data": {
      "text/html": [
       "<div>\n",
       "<style scoped>\n",
       "    .dataframe tbody tr th:only-of-type {\n",
       "        vertical-align: middle;\n",
       "    }\n",
       "\n",
       "    .dataframe tbody tr th {\n",
       "        vertical-align: top;\n",
       "    }\n",
       "\n",
       "    .dataframe thead th {\n",
       "        text-align: right;\n",
       "    }\n",
       "</style>\n",
       "<table border=\"1\" class=\"dataframe\">\n",
       "  <thead>\n",
       "    <tr style=\"text-align: right;\">\n",
       "      <th></th>\n",
       "      <th>Country</th>\n",
       "      <th>Population</th>\n",
       "    </tr>\n",
       "  </thead>\n",
       "  <tbody>\n",
       "    <tr>\n",
       "      <th>214</th>\n",
       "      <td>United States of America</td>\n",
       "      <td>298444215</td>\n",
       "    </tr>\n",
       "  </tbody>\n",
       "</table>\n",
       "</div>"
      ],
      "text/plain": [
       "                      Country  Population\n",
       "214  United States of America   298444215"
      ]
     },
     "execution_count": 51,
     "metadata": {},
     "output_type": "execute_result"
    }
   ],
   "source": [
    "def usa_format_fixer(string):\n",
    "    if string=='United States':\n",
    "        return 'United States of America'\n",
    "    else:\n",
    "        return string\n",
    "    \n",
    "populations['Country'] = populations['Country'].apply(usa_format_fixer)\n",
    "populations[populations['Country']=='United States of America']"
   ]
  },
  {
   "attachments": {},
   "cell_type": "markdown",
   "metadata": {},
   "source": [
    "Аналогичная проблема может возникнуть и с Южной Кореей - в populations она представлена как Korea, South"
   ]
  },
  {
   "cell_type": "code",
   "execution_count": null,
   "metadata": {},
   "outputs": [
    {
     "data": {
      "text/html": [
       "<div>\n",
       "<style scoped>\n",
       "    .dataframe tbody tr th:only-of-type {\n",
       "        vertical-align: middle;\n",
       "    }\n",
       "\n",
       "    .dataframe tbody tr th {\n",
       "        vertical-align: top;\n",
       "    }\n",
       "\n",
       "    .dataframe thead th {\n",
       "        text-align: right;\n",
       "    }\n",
       "</style>\n",
       "<table border=\"1\" class=\"dataframe\">\n",
       "  <thead>\n",
       "    <tr style=\"text-align: right;\">\n",
       "      <th></th>\n",
       "      <th>Country</th>\n",
       "      <th>Population</th>\n",
       "    </tr>\n",
       "  </thead>\n",
       "  <tbody>\n",
       "    <tr>\n",
       "      <th>110</th>\n",
       "      <td>Korea, South</td>\n",
       "      <td>48846823</td>\n",
       "    </tr>\n",
       "  </tbody>\n",
       "</table>\n",
       "</div>"
      ],
      "text/plain": [
       "          Country  Population\n",
       "110  Korea, South    48846823"
      ]
     },
     "execution_count": 32,
     "metadata": {},
     "output_type": "execute_result"
    }
   ],
   "source": [
    "populations[populations['Country']=='Korea, South']"
   ]
  },
  {
   "attachments": {},
   "cell_type": "markdown",
   "metadata": {},
   "source": [
    "...а в X - как South Korea"
   ]
  },
  {
   "cell_type": "code",
   "execution_count": 53,
   "metadata": {},
   "outputs": [
    {
     "data": {
      "text/html": [
       "<div>\n",
       "<style scoped>\n",
       "    .dataframe tbody tr th:only-of-type {\n",
       "        vertical-align: middle;\n",
       "    }\n",
       "\n",
       "    .dataframe tbody tr th {\n",
       "        vertical-align: top;\n",
       "    }\n",
       "\n",
       "    .dataframe thead th {\n",
       "        text-align: right;\n",
       "    }\n",
       "</style>\n",
       "<table border=\"1\" class=\"dataframe\">\n",
       "  <thead>\n",
       "    <tr style=\"text-align: right;\">\n",
       "      <th></th>\n",
       "      <th>additional_number_of_scoring</th>\n",
       "      <th>average_score</th>\n",
       "      <th>review_total_negative_word_counts</th>\n",
       "      <th>total_number_of_reviews</th>\n",
       "      <th>review_total_positive_word_counts</th>\n",
       "      <th>total_number_of_reviews_reviewer_has_given</th>\n",
       "      <th>days_since_review</th>\n",
       "      <th>lat</th>\n",
       "      <th>lng</th>\n",
       "      <th>review_month</th>\n",
       "      <th>...</th>\n",
       "      <th>Couple</th>\n",
       "      <th>Stayed 1 night</th>\n",
       "      <th>Stayed 2 nights</th>\n",
       "      <th>good_stuff</th>\n",
       "      <th>good_location</th>\n",
       "      <th>good_room</th>\n",
       "      <th>good_breakfast</th>\n",
       "      <th>bad_room</th>\n",
       "      <th>bad_breakfast</th>\n",
       "      <th>reviewer_nationality</th>\n",
       "    </tr>\n",
       "  </thead>\n",
       "  <tbody>\n",
       "    <tr>\n",
       "      <th>340889</th>\n",
       "      <td>25</td>\n",
       "      <td>9.2</td>\n",
       "      <td>0</td>\n",
       "      <td>283</td>\n",
       "      <td>45</td>\n",
       "      <td>1</td>\n",
       "      <td>75</td>\n",
       "      <td>48.875345</td>\n",
       "      <td>2.316716</td>\n",
       "      <td>5</td>\n",
       "      <td>...</td>\n",
       "      <td>0</td>\n",
       "      <td>0</td>\n",
       "      <td>1</td>\n",
       "      <td>0</td>\n",
       "      <td>0</td>\n",
       "      <td>0</td>\n",
       "      <td>0</td>\n",
       "      <td>0</td>\n",
       "      <td>0</td>\n",
       "      <td>South Korea</td>\n",
       "    </tr>\n",
       "  </tbody>\n",
       "</table>\n",
       "<p>1 rows × 22 columns</p>\n",
       "</div>"
      ],
      "text/plain": [
       "        additional_number_of_scoring  average_score   \n",
       "340889                            25            9.2  \\\n",
       "\n",
       "        review_total_negative_word_counts  total_number_of_reviews   \n",
       "340889                                  0                      283  \\\n",
       "\n",
       "        review_total_positive_word_counts   \n",
       "340889                                 45  \\\n",
       "\n",
       "        total_number_of_reviews_reviewer_has_given  days_since_review   \n",
       "340889                                           1                 75  \\\n",
       "\n",
       "              lat       lng  review_month  ...  Couple  Stayed 1 night   \n",
       "340889  48.875345  2.316716             5  ...       0               0  \\\n",
       "\n",
       "        Stayed 2 nights  good_stuff  good_location  good_room  good_breakfast   \n",
       "340889                1           0              0          0               0  \\\n",
       "\n",
       "        bad_room  bad_breakfast  reviewer_nationality  \n",
       "340889         0              0           South Korea  \n",
       "\n",
       "[1 rows x 22 columns]"
      ]
     },
     "execution_count": 53,
     "metadata": {},
     "output_type": "execute_result"
    }
   ],
   "source": [
    "X[X['reviewer_nationality']=='South Korea'].sample(1)"
   ]
  },
  {
   "attachments": {},
   "cell_type": "markdown",
   "metadata": {},
   "source": [
    "Исправим эту проблему аналогичным образом (заодно на всякий случай и проблему с Северной Кореей тоже - хотя туристы из Северной Кореи практически не существуют, перестраховаться не помешает)"
   ]
  },
  {
   "cell_type": "code",
   "execution_count": 54,
   "metadata": {},
   "outputs": [
    {
     "name": "stderr",
     "output_type": "stream",
     "text": [
      "C:\\Users\\New\\AppData\\Local\\Temp\\ipykernel_7948\\3699561890.py:9: SettingWithCopyWarning: \n",
      "A value is trying to be set on a copy of a slice from a DataFrame.\n",
      "Try using .loc[row_indexer,col_indexer] = value instead\n",
      "\n",
      "See the caveats in the documentation: https://pandas.pydata.org/pandas-docs/stable/user_guide/indexing.html#returning-a-view-versus-a-copy\n",
      "  populations['Country'] = populations['Country'].apply(korea_format_fixer)\n"
     ]
    },
    {
     "data": {
      "text/html": [
       "<div>\n",
       "<style scoped>\n",
       "    .dataframe tbody tr th:only-of-type {\n",
       "        vertical-align: middle;\n",
       "    }\n",
       "\n",
       "    .dataframe tbody tr th {\n",
       "        vertical-align: top;\n",
       "    }\n",
       "\n",
       "    .dataframe thead th {\n",
       "        text-align: right;\n",
       "    }\n",
       "</style>\n",
       "<table border=\"1\" class=\"dataframe\">\n",
       "  <thead>\n",
       "    <tr style=\"text-align: right;\">\n",
       "      <th></th>\n",
       "      <th>Country</th>\n",
       "      <th>Population</th>\n",
       "    </tr>\n",
       "  </thead>\n",
       "  <tbody>\n",
       "    <tr>\n",
       "      <th>110</th>\n",
       "      <td>South Korea</td>\n",
       "      <td>48846823</td>\n",
       "    </tr>\n",
       "  </tbody>\n",
       "</table>\n",
       "</div>"
      ],
      "text/plain": [
       "         Country  Population\n",
       "110  South Korea    48846823"
      ]
     },
     "execution_count": 54,
     "metadata": {},
     "output_type": "execute_result"
    }
   ],
   "source": [
    "def korea_format_fixer(string):\n",
    "    if string=='Korea, South':\n",
    "        return 'South Korea'\n",
    "    elif string=='Korea, North':\n",
    "        return 'North Korea'\n",
    "    else:\n",
    "        return string\n",
    "    \n",
    "populations['Country'] = populations['Country'].apply(korea_format_fixer)\n",
    "populations[populations['Country']=='South Korea']"
   ]
  },
  {
   "attachments": {},
   "cell_type": "markdown",
   "metadata": {},
   "source": [
    "## Кодирование национальностей рецензентов численностью населения их родной страны/территории"
   ]
  },
  {
   "cell_type": "code",
   "execution_count": 55,
   "metadata": {},
   "outputs": [],
   "source": [
    "X = X.merge(populations, left_on='reviewer_nationality', right_on='Country', how='left')"
   ]
  },
  {
   "attachments": {},
   "cell_type": "markdown",
   "metadata": {},
   "source": [
    "Заменяем название страны в reviewer_nationality на соответствующую ей популяцию, после чего удаляем сделавшие своё дело и \n",
    "ставшие бесполезными колонки Country  и Population."
   ]
  },
  {
   "cell_type": "code",
   "execution_count": 56,
   "metadata": {},
   "outputs": [],
   "source": [
    "X['reviewer_nationality'] = X['Population']\n",
    "X = X.drop(['Country', 'Population'], axis=1)"
   ]
  },
  {
   "attachments": {},
   "cell_type": "markdown",
   "metadata": {},
   "source": [
    "Однако теперь в признаке reviewer_nationality появились пропущенные значения из-за того, что изначально в нём было больше уникальных значений, чем стран в populations. Скорее всего, это объясняется тем, что датасете от bnokoro не были учтены некоторые малонаселённые территории. Эти пропуски естественней всего заполнить маленьким значением численности населения, например 50000."
   ]
  },
  {
   "cell_type": "code",
   "execution_count": 57,
   "metadata": {},
   "outputs": [],
   "source": [
    "X['reviewer_nationality'] = X['reviewer_nationality'].fillna(50000)"
   ]
  },
  {
   "attachments": {},
   "cell_type": "markdown",
   "metadata": {},
   "source": [
    "Наконец, приведём значения reviewer_nationality к виду целых чисел для ускорения обработки."
   ]
  },
  {
   "cell_type": "code",
   "execution_count": 58,
   "metadata": {},
   "outputs": [],
   "source": [
    "X['reviewer_nationality'] = X['reviewer_nationality'].astype('int32')"
   ]
  },
  {
   "attachments": {},
   "cell_type": "markdown",
   "metadata": {},
   "source": [
    "## Третья итерация обучения модели "
   ]
  },
  {
   "cell_type": "code",
   "execution_count": 59,
   "metadata": {},
   "outputs": [
    {
     "name": "stdout",
     "output_type": "stream",
     "text": [
      "MAPE: 0.13444068468175463\n"
     ]
    }
   ],
   "source": [
    "X_train_3, X_test_3, y_train_3, y_test_3 = train_test_split(X, y, test_size=0.25, random_state=42)\n",
    "\n",
    "regr.fit(X_train_3, y_train_3)  \n",
    "      \n",
    "y_pred_3 = regr.predict(X_test_3)\n",
    "\n",
    "print('MAPE:', metrics.mean_absolute_percentage_error(y_test_3, y_pred_3))"
   ]
  },
  {
   "cell_type": "code",
   "execution_count": 60,
   "metadata": {},
   "outputs": [
    {
     "name": "stdout",
     "output_type": "stream",
     "text": [
      "Точность модели на текущей итерации: 86.556 %\n"
     ]
    }
   ],
   "source": [
    "print('Точность модели на текущей итерации:', (1 - 0.13444)*100, '%')"
   ]
  },
  {
   "attachments": {},
   "cell_type": "markdown",
   "metadata": {},
   "source": [
    "# Часть 4.\n",
    "\n",
    "# Использование информации о геграфическом положении отеля"
   ]
  },
  {
   "attachments": {},
   "cell_type": "markdown",
   "metadata": {},
   "source": [
    "Сначала посмотрим, в каких странах находятся отели:"
   ]
  },
  {
   "cell_type": "code",
   "execution_count": 61,
   "metadata": {},
   "outputs": [
    {
     "data": {
      "text/plain": [
       "hotel_country\n",
       "United Kingdom    196774\n",
       "Spain              45132\n",
       "France             44830\n",
       "Netherlands        43006\n",
       "Austria            29178\n",
       "Italy              27883\n",
       "Name: count, dtype: int64"
      ]
     },
     "execution_count": 61,
     "metadata": {},
     "output_type": "execute_result"
    }
   ],
   "source": [
    "def uk_format_fixer(string):\n",
    "    if string=='Kingdom':\n",
    "        return 'United Kingdom'\n",
    "    else:\n",
    "        return string\n",
    "\n",
    "X['hotel_country'] = hotels['hotel_address'].apply(lambda x: x.split()[-1])\n",
    "X['hotel_country'] = X['hotel_country'].apply(uk_format_fixer)\n",
    "X['hotel_country'].value_counts()"
   ]
  },
  {
   "attachments": {},
   "cell_type": "markdown",
   "metadata": {},
   "source": [
    "Закодируем данные о стране, в которой находится отель аналогично данным о национальности рецензентов."
   ]
  },
  {
   "cell_type": "code",
   "execution_count": 62,
   "metadata": {},
   "outputs": [],
   "source": [
    "X = X.merge(populations, left_on='hotel_country', right_on='Country', how='left')\n",
    "X['hotel_country'] = X['Population']\n",
    "X = X.drop(['Country', 'Population'], axis=1)"
   ]
  },
  {
   "attachments": {},
   "cell_type": "markdown",
   "metadata": {},
   "source": [
    "## Четвёртая итерация обучения модели"
   ]
  },
  {
   "cell_type": "code",
   "execution_count": 63,
   "metadata": {},
   "outputs": [
    {
     "name": "stdout",
     "output_type": "stream",
     "text": [
      "MAPE: 0.1343734310555643\n"
     ]
    }
   ],
   "source": [
    "X_train_4, X_test_4, y_train_4, y_test_4 = train_test_split(X, y, test_size=0.25, random_state=42)\n",
    "\n",
    "regr.fit(X_train_4, y_train_4)  \n",
    "      \n",
    "y_pred_4 = regr.predict(X_test_4)\n",
    "\n",
    "print('MAPE:', metrics.mean_absolute_percentage_error(y_test_4, y_pred_4))"
   ]
  },
  {
   "cell_type": "code",
   "execution_count": 64,
   "metadata": {},
   "outputs": [
    {
     "name": "stdout",
     "output_type": "stream",
     "text": [
      "Точность модели на текущей итерации: 86.563 %\n"
     ]
    }
   ],
   "source": [
    "print('Точность модели на текущей итерации:', (1 - 0.13437)*100, '%')"
   ]
  },
  {
   "attachments": {},
   "cell_type": "markdown",
   "metadata": {},
   "source": [
    "Точность модели на уровне 86.563 % является приемлемой для целей данного проекта. Проект можно считать успешно выполненным."
   ]
  }
 ],
 "metadata": {
  "kernelspec": {
   "display_name": "Python 3",
   "language": "python",
   "name": "python3"
  },
  "language_info": {
   "codemirror_mode": {
    "name": "ipython",
    "version": 3
   },
   "file_extension": ".py",
   "mimetype": "text/x-python",
   "name": "python",
   "nbconvert_exporter": "python",
   "pygments_lexer": "ipython3",
   "version": "3.9.11"
  },
  "orig_nbformat": 4
 },
 "nbformat": 4,
 "nbformat_minor": 2
}
